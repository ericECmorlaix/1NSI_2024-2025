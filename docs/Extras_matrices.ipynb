{
 "cells": [
  {
   "cell_type": "markdown",
   "metadata": {},
   "source": [
    "Ci-dessous, on définit par compréhension un tableau à une dimension contenant 25 éléments correspondant aux indices d'une numérotation des LED de la carte BBC micro:bit tel que :\n",
    "\n",
    "$$\\begin{pmatrix}\n",
    "& 0 & 1 & 2 & 3 & 4 & \\\\\n",
    "& 5 & 6 & 7 & 8 & 9 & \\\\\n",
    "& 10 & 11 & 12 & 13 & 14 & \\\\\n",
    "& 15 & 16 & 17 & 18 & 19 & \\\\\n",
    "& 20 & 21 & 22 & 23 & 24 & \\\\\n",
    "\\end{pmatrix}$$"
   ]
  },
  {
   "cell_type": "code",
   "execution_count": 3,
   "metadata": {},
   "outputs": [
    {
     "name": "stdout",
     "output_type": "stream",
     "text": [
      "[0, 1, 2, 3, 4, 5, 6, 7, 8, 9, 10, 11, 12, 13, 14, 15, 16, 17, 18, 19, 20, 21, 22, 23, 24]\n"
     ]
    }
   ],
   "source": [
    "tableau = [i for i in range(25)]\n",
    "print(tableau)"
   ]
  },
  {
   "cell_type": "markdown",
   "metadata": {},
   "source": [
    "Ecrire une fonction `affiche_pixel(indice, niveau)` qui allume une LED à un niveau d'intensité allant de 0 à 9 selon son numéro d'indice\n",
    "\n",
    "**Rappels :**\n",
    "\n",
    ">La fonction: `display.set_pixel(x,y,n)` permet d’allumer la LED de la colonne `x` (nombre entier entre 0 et 4) et de la ligne `y` (nombre entier entre 0 et 4) avec un niveau d'intensité lumineuse `n` (nombre entier entre 0 et 9).\n",
    ">\n",
    ">Exemple: `display.set_pixel(1,2,7)` allume la LED située à la colonne 1 de la ligne 2 au niveau d'intensité lumineuse 7.\n",
    ">\n",
    ">[Référence](https://python.microbit.org/v/3/reference/display) et [documentation](https://microbit-micropython.readthedocs.io/en/v2-docs/display.html) pour l'affichage sur la [matrice à LED](https://microbit.org/fr/get-started/features/leds-and-buttons/#leds)"
   ]
  },
  {
   "cell_type": "code",
   "execution_count": null,
   "metadata": {},
   "outputs": [],
   "source": [
    "def affiche_pixel(indice, niveau) :\n",
    "\n",
    "    x = ... # exprimer x en fonction de l'indice\n",
    "    y = ... # exprimer y en fonction de l'indice\n",
    "\n",
    "    display.set_pixel(x,y,niveau)"
   ]
  }
 ],
 "metadata": {
  "kernelspec": {
   "display_name": "Python 3",
   "language": "python",
   "name": "python3"
  },
  "language_info": {
   "codemirror_mode": {
    "name": "ipython",
    "version": 3
   },
   "file_extension": ".py",
   "mimetype": "text/x-python",
   "name": "python",
   "nbconvert_exporter": "python",
   "pygments_lexer": "ipython3",
   "version": "3.10.1"
  }
 },
 "nbformat": 4,
 "nbformat_minor": 2
}
