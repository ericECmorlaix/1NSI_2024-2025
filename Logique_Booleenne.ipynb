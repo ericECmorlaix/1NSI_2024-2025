{
 "cells": [
  {
   "cell_type": "markdown",
   "metadata": {},
   "source": [
    "# Logique Boléenne :"
   ]
  },
  {
   "cell_type": "markdown",
   "metadata": {},
   "source": [
    "## Un peu d'histoire :\n",
    "\n",
    "En 1847, le Britanique [George Boole](https://fr.wikipedia.org/wiki/George_Boole) développe un algèbre binaire pour traduire des raisonnements logiques sous forme d'équations dites booléennes.\n",
    "\n",
    "En 1938, l'Américain Claude Shannon prouve que les circuits électriques peuvent résoudre tous les problèmes que l'algèbre de Boole peut résoudre.\n",
    "\n",
    "Ceci et les travaux d'Alan Turing de 1936 constituent les fondements de l'informatique."
   ]
  },
  {
   "cell_type": "markdown",
   "metadata": {},
   "source": [
    "## Algèbre de Boole :\n",
    "\n",
    "Un **booléen** ne peut prendre que deux valeurs distinctes :\n",
    "- soit **`True = 1`** (Vrai) ;\n",
    "- soit **`False = 0`** (Faux).\n",
    "\n",
    "On peut **affecter un booléen** à une variable. Il s'agit alors d'une variable binaire."
   ]
  },
  {
   "cell_type": "code",
   "execution_count": null,
   "metadata": {},
   "outputs": [],
   "source": [
    "continuer = True\n",
    "type(continuer)"
   ]
  },
  {
   "cell_type": "markdown",
   "metadata": {},
   "source": [
    "Les conditions, comparaisons et tests d'égalité, sont des expressions qui produisent un résultat **booléen**"
   ]
  },
  {
   "cell_type": "code",
   "execution_count": null,
   "metadata": {},
   "outputs": [],
   "source": [
    "while continuer:              # la condition est vraie, on exécute le bloc de la boucle while\n",
    "    print(\"demat\")\n",
    "    poursuivre = input(\"Voulez-vous continuer ? o/n : \")\n",
    "    if poursuivre.lower() == 'n':\n",
    "        print(\"kenavo\")\n",
    "        continuer = False     # la condition est fausse, on sort de la boucle"
   ]
  },
  {
   "cell_type": "markdown",
   "metadata": {},
   "source": [
    "Les opérations fondamentales de l'[algèbre de Boole](https://fr.wikipedia.org/wiki/Alg%C3%A8bre_de_Boole_(logique)) sont :\n",
    "* la **conjonction**, **ET**, se note : `and`, $\\&$ , $\\bullet$, $∧$ \n",
    "* la **disjonction**, **OU**, se note : `or`,$|$ ,  $+$, $∨$  \n",
    "* la **négation** : **NON**, se note : `not`, $\\bar{ }$, ~, $¬$\n",
    "\n",
    "Avec ces opérateurs de base, nous allons pouvoir définir des **fonctions logiques**, exprimer des conditions qui combinent plusieurs tests."
   ]
  },
  {
   "cell_type": "code",
   "execution_count": null,
   "metadata": {},
   "outputs": [],
   "source": [
    "x = 5\n",
    "if (x >= 0) and (x <= 10):\n",
    "    print(\"Ce nombre appartient à l'intervalle [0 ; 10]\")\n",
    "else:\n",
    "    print(\"Ce nombre n'appartient pas à l'intervalle [0 ; 10]\")"
   ]
  },
  {
   "cell_type": "markdown",
   "metadata": {},
   "source": [
    "> Ici, les parenthèses permettent de mieux visualiser les tests.\n",
    "\n",
    "L'algèbre de Boole répond à [des règles](https://fr.wikipedia.org/wiki/Alg%C3%A8bre_de_Boole_(logique)#Propri%C3%A9t%C3%A9s), ainsi l’opérateur `and` est prioritaire sur l’opérateur `or` mais il vaut mieux utiliser des parenthèses pour plus de clarté : $ a + b \\bullet c = a + (b \\bullet c)$\n",
    "\n",
    "## Table de vérité :\n",
    "\n",
    "Pour chaque fonction logique, on peut établir une **table de vérité**. Un tableau qui présente toutes les combinaisons de valeurs possibles pour une ou plusieurs variables, et la valeur associée de la fonction décrite. Le nombre de combinaisons est $2^n$ avec $n$ le nombre de variables booléennes combinées.\n",
    "\n",
    "\n",
    "### Fontion ET (AND):\n",
    "La conjonction dont l'[expression booléenne](https://fr.wikipedia.org/wiki/Expression_bool%C3%A9enne_(programmation_informatique)) est `a and b`, est réalisée lorsque les conditions `a` et `b` sont toutes deux réalisées :\n",
    "\n",
    "\n",
    "|  a  |  b  |  ET |\n",
    "|:---:|:---:|:---:|\n",
    "|  0  |  0  |  0  |\n",
    "|  0  |  1  |  0  |\n",
    "|  1  |  0  |  0  |\n",
    "|  1  |  1  |  1  |\n",
    "\n",
    "Equation booléenne : $a \\bullet b = a \\& b = a ∧ b$"
   ]
  },
  {
   "cell_type": "markdown",
   "metadata": {},
   "source": [
    "<h3 class='fa fa-cogs' style=\"color: MediumSeaGreen\"> A faire vous-même :</h3>\n",
    "\n",
    "Modifier le programme suivant pour obtenir une table de vérité avec le même ordre de combinaisons logiques que ci-dessus."
   ]
  },
  {
   "cell_type": "code",
   "execution_count": null,
   "metadata": {},
   "outputs": [],
   "source": [
    "# Table de vérité en Markdown par Python de l'opérateur ET :\n",
    "from IPython.display import Markdown\n",
    "    \n",
    "table ='''|  a  |  b  |  ET |\n",
    "|:---:|:---:|:---:|\\n'''\n",
    "\n",
    "for a in [True,False]:\n",
    "    for b in [True,False]:\n",
    "        table += f\"|  {a}  |  {b}  |  {a and b}  |\\n\"\n",
    "        \n",
    "Markdown(table)        "
   ]
  },
  {
   "cell_type": "markdown",
   "metadata": {},
   "source": [
    "### Fontion OU (OR) :\n",
    "La disjonction dont l'[expression booléenne](https://fr.wikipedia.org/wiki/Expression_bool%C3%A9enne_(programmation_informatique)) est `a or b`, est réalisée lorsqu'au moins l'une des conditions `a` ou `b` est réalisée :\n",
    "\n",
    "\n",
    "|  a  |  b  |  OU |\n",
    "|:---:|:---:|:---:|\n",
    "|  0  |  0  |  0  |\n",
    "|  0  |  1  |  1  |\n",
    "|  1  |  0  |  1  |\n",
    "|  1  |  1  |  1  |\n",
    "\n",
    "Equation booléenne : $a + b = a | b = a ∨ b$\n",
    "\n",
    "<h3 class='fa fa-code' style=\"color: MediumSeaGreen\"> A programmer vous-même :</h3>"
   ]
  },
  {
   "cell_type": "code",
   "execution_count": null,
   "metadata": {},
   "outputs": [],
   "source": [
    "# Table de vérité en Markdown par  Python de l'opérateur OU :\n"
   ]
  },
  {
   "cell_type": "markdown",
   "metadata": {},
   "source": [
    "### Fontion NON (NOT) :\n",
    "La négation dont l'[expression booléenne](https://fr.wikipedia.org/wiki/Expression_bool%C3%A9enne_(programmation_informatique)) est `not a`, est réalisée lorsque la condition `a` n'est pas réalisée  :\n",
    "\n",
    "|  A  | NON |\n",
    "|:---:|:---:|\n",
    "|  0  |  1  |\n",
    "|  1  |  0  |\n",
    "\n",
    "Equation booléenne : $\\bar{a} =$ ~$a = ¬a$\n",
    "\n",
    "<h3 class='fa fa-code' style=\"color: MediumSeaGreen\"> A programmer vous-même :</h3>"
   ]
  },
  {
   "cell_type": "code",
   "execution_count": null,
   "metadata": {},
   "outputs": [],
   "source": [
    "# Table de vérité en Markdown par Python de l'opérateur NON :\n"
   ]
  },
  {
   "cell_type": "markdown",
   "metadata": {},
   "source": [
    "## Autres Fonctions logiques :\n",
    "\n",
    "A partir des trois fonctions de bases ET, OU, NON, on peut en construire d'autres telles que :\n",
    "\n",
    "### Fonction OU-Exclusif (XOR) :\n",
    "\n",
    "|  A  |  B  |   NOR  |\n",
    "|:---:|:---:|:------:|\n",
    "|  0  |  0  |    0   |\n",
    "|  0  |  1  |    1   |\n",
    "|  1  |  0  |    1   |\n",
    "|  1  |  1  |    0   |\n",
    "\n",
    "<h3 class='fa fa-code' style=\"color: MediumSeaGreen\"> A programmer vous-même :</h3>\n",
    "\n",
    "Vérifier que les [expressions booléennes](https://fr.wikipedia.org/wiki/Expression_bool%C3%A9enne_(programmation_informatique)) `((not a) and b) or (a and (not b))` et `a ^ b` sont équivalentes."
   ]
  },
  {
   "cell_type": "code",
   "execution_count": null,
   "metadata": {},
   "outputs": [],
   "source": [
    "# Table de vérité en Markdown par Python de l'opérateur OU-Exclusif :\n",
    " "
   ]
  },
  {
   "cell_type": "markdown",
   "metadata": {},
   "source": [
    "### Fonction NON-ET (NAND) :\n",
    "\n",
    "|  A  |  B  |  NAND  |\n",
    "|:---:|:---:|:------:|\n",
    "|  0  |  0  |    1   |\n",
    "|  0  |  1  |    1   |\n",
    "|  1  |  0  |    1   |\n",
    "|  1  |  1  |    0   |\n",
    "\n",
    "<h3 class='fa fa-code' style=\"color: MediumSeaGreen\"> A programmer vous-même :</h3>\n",
    "\n",
    "Vérifier que les [expressions booléennes](https://fr.wikipedia.org/wiki/Expression_bool%C3%A9enne_(programmation_informatique)) `not (a and b)` et `(not a) or (not b)` sont équivalentes."
   ]
  },
  {
   "cell_type": "code",
   "execution_count": null,
   "metadata": {},
   "outputs": [],
   "source": [
    "# Table de vérité en Markdown par Python de l'opérateur NON-ET :\n",
    " "
   ]
  },
  {
   "cell_type": "markdown",
   "metadata": {},
   "source": [
    "### Fonction NON-OU (NOR) :\n",
    "\n",
    "|  A  |  B  |   NOR  |\n",
    "|:---:|:---:|:------:|\n",
    "|  0  |  0  |    1   |\n",
    "|  0  |  1  |    0   |\n",
    "|  1  |  0  |    0   |\n",
    "|  1  |  1  |    0   |\n",
    "\n",
    "<h3 class='fa fa-code' style=\"color: MediumSeaGreen\"> A programmer vous-même :</h3>\n",
    "\n",
    "Vérifier que les [expressions booléennes](https://fr.wikipedia.org/wiki/Expression_bool%C3%A9enne_(programmation_informatique)) `not (a or b)` et `(not a) and (not b)` sont équivalentes."
   ]
  },
  {
   "cell_type": "code",
   "execution_count": null,
   "metadata": {},
   "outputs": [],
   "source": [
    "# Table de vérité en Markdown par Python de l'opérateur NON-OU :\n",
    "  "
   ]
  },
  {
   "cell_type": "markdown",
   "metadata": {},
   "source": [
    "> Les lois de [De Morgan](https://fr.wikipedia.org/wiki/Lois_de_De_Morgan) :\n",
    ">\n",
    ">$$\\overline{a \\bullet b} = \\overline{a} + \\overline{b}$$\n",
    ">\n",
    ">$$\\overline{a + b} = \\overline{a} \\bullet \\overline{b}$$\n",
    ">\n",
    "> Exemple : Le contraire d'être *riche et célèbre* est ................................"
   ]
  },
  {
   "cell_type": "markdown",
   "metadata": {},
   "source": [
    "## Application à l'addition binaire :"
   ]
  },
  {
   "cell_type": "code",
   "execution_count": null,
   "metadata": {},
   "outputs": [],
   "source": [
    "from metakernel import register_ipython_magics\n",
    "register_ipython_magics()"
   ]
  },
  {
   "cell_type": "code",
   "execution_count": null,
   "metadata": {},
   "outputs": [],
   "source": [
    "%%tutor\n",
    "\n",
    "n = [0, 1, 0]\n",
    "p = [0, 1, 1]\n",
    "r = []\n",
    "\n",
    "c = False\n",
    "for i in range(2, -1, -1):\n",
    "    a = n[i]\n",
    "    b = p[i]\n",
    "    unite = (a and not(b) and not(c)) or\\\n",
    "        (not(a) and b and not(c)) or\\\n",
    "        (not(a) and not(b) and c) or\\\n",
    "        (a and b and c)\n",
    "    r = [int(unite)] + r\n",
    "    c = (a and b) or (b and c) or (a and c)\n",
    "r = [int(c)] + r\n",
    "\n",
    "print(r)"
   ]
  },
  {
   "cell_type": "markdown",
   "metadata": {},
   "source": [
    "## Opération booléenne bit à bit :\n",
    "\n",
    "Dans beaucoup de langages, ``and`` et ``or`` sont écrits ``&&`` et ``||``.\n",
    "\n",
    "Ces symboles existent égalemant en Python, mais ils sont là pour réaliser des opérations binaires bit à bit :"
   ]
  },
  {
   "cell_type": "code",
   "execution_count": null,
   "metadata": {},
   "outputs": [],
   "source": [
    "masque = 0b00001111\n",
    "resultat = 0b10011101 & masque\n",
    "resultat, bin(resultat), hex(resultat)"
   ]
  },
  {
   "cell_type": "markdown",
   "metadata": {},
   "source": [
    "> Les `1` du masque définissent les bits qui seront conservés dans le résultat."
   ]
  },
  {
   "cell_type": "code",
   "execution_count": null,
   "metadata": {},
   "outputs": [],
   "source": [
    "bin(0b10011101 | 0b00001111)"
   ]
  },
  {
   "cell_type": "code",
   "execution_count": null,
   "metadata": {},
   "outputs": [],
   "source": [
    "bin(0b10011101 ^ 0b00001111)"
   ]
  },
  {
   "cell_type": "markdown",
   "metadata": {},
   "source": [
    "<h3 class='fa fa-cogs' style=\"color: darkorange\"> A faire vous-même :</h3>\n",
    "\n",
    "- Calculer les opérations binaires suivantes :\n",
    "\n",
    "```\n",
    "# calcul A\n",
    "   1100\n",
    "&  0111\n",
    "----------\n",
    "\n",
    "\n",
    "# calcul B\n",
    "   1100\n",
    "|  0111\n",
    "----------\n",
    "   \n",
    "\n",
    "# calcul C\n",
    "   1100\n",
    "^  0111\n",
    "----------\n",
    "\n",
    "\n",
    "# calcul D\n",
    "~  1100\n",
    "&  0111\n",
    "----------\n",
    "\n",
    "\n",
    "```\n",
    "- Vérifier vos résultats avec Python en décimal, puis en binaire et en hexadécimal :    "
   ]
  },
  {
   "cell_type": "code",
   "execution_count": null,
   "metadata": {},
   "outputs": [],
   "source": [
    "# calcul A\n",
    "12 & 7"
   ]
  },
  {
   "cell_type": "code",
   "execution_count": null,
   "metadata": {},
   "outputs": [],
   "source": [
    "# calcul B\n",
    "12 | 7"
   ]
  },
  {
   "cell_type": "code",
   "execution_count": null,
   "metadata": {},
   "outputs": [],
   "source": [
    "# calcul C\n",
    "12 ^ 7"
   ]
  },
  {
   "cell_type": "code",
   "execution_count": null,
   "metadata": {},
   "outputs": [],
   "source": [
    "# calcul D\n",
    "~12 & 7"
   ]
  },
  {
   "cell_type": "markdown",
   "metadata": {},
   "source": [
    "> [Le OU exclusif (XOR) est une méthode de cryptographie moderne](https://www.dcode.fr/chiffre-xor) qui s'est développée avec l'avènement de l'informatique. Elle consiste à chiffrer un message en binaire avec une clé répétée par une multiplication par OU Exclusif.\n",
    ">\n",
    "> Ainsi le chiffrement de la chaine de caractères `'NSI'` avec la clé `'f'` produit `'(5/'`...\n",
    "\n",
    "\n",
    "## Caractère séquentiel (shortcuts) :\n",
    "\n",
    "En Python, les opérateurs ``and`` et ``or`` sont séquentiels : L'opérande de droite n'est évaluée que si l'opérande de gauche ne permet pas de trouver le résultat. On parle d'évaluation fainéante...\n",
    "\n",
    "Pour ``a and b`` :\n",
    "- Si a est False, inutile d'évaluer b, ce sera False ;\n",
    "- Si a est True, alors il faudra évaluer b pour savoir.\n",
    "\n",
    "Pour ``a or b`` : \n",
    "- si a est True, inutile d'évaluer b, ce sera True ;\n",
    "- si a est False, il faudra évaluer b pour savoir.\n",
    "\n",
    "Illustration : http://sametmax.com/quelques-astuces-a-propos-de-and-et-or/\n"
   ]
  },
  {
   "cell_type": "markdown",
   "metadata": {},
   "source": [
    "## Applications :\n",
    "\n",
    "<h3 class='fa fa-graduation-cap' style=\"color: MediumSeaGreen\">Google doodle</h4>\n",
    "\n",
    "<br>\n",
    "<img  src=\"https://ericecmorlaix.github.io/img/doodle_George.gif\" alt=\"doodle_George\">\n",
    "<br>\n",
    "\n",
    "**Répondre** aux questions du [notebook Capytale n° 0e33-4601596](https://capytale2.ac-paris.fr/web/c/0e33-4601596) \n",
    "\n",
    "<hr>\n",
    "<h3 class='fa fa-cogs' style=\"color: MediumSeaGreen\">Portes logiques</h3>\n",
    "\n",
    "**Observer** la représentation des portes logiques (NON, ET, OU, NON-ET, NON-OU, OU-EXCLUSIF) et **réaliser** des schémas de circuits pour **simuler** leur fonctionnement sur [Capytale n° 513c-4629553 ](https://capytale2.ac-paris.fr/web/c/513c-4629553) (ou sur [https://logic.ly/demo](https://logic.ly/demo))\n",
    "\n",
    "<hr>\n",
    "<h3 class='fa fa-rocket' style=\"color: MediumSeaGreen\"> BBC micro:bit</h3>\n",
    "\n",
    "**Programmer** puis **expérimenter** le fonctionnement de chaque fonction logique (NON, ET, OU, NON-ET, NON-OU, OU-EXCLUSIF) avec une carte [BBC micro:bit](https://ericecmorlaix.github.io/adn-Tutoriel_lab_si/IOT/BBC_microbit/)\n",
    "\n",
    "- **utiliser** les boutons-poussoir A et B pour faire les entrées et **afficher** en sortie sur la matrice à LEDs un <span class='fa fa-check'></span> pour vrai et un <span class='fa fa-close'></span> pour faux ;\n",
    "- **conserver** une copie de vos programme MicroPython dans un notebook sur [Capytale n° 96d9-4637151 ](https://capytale2.ac-paris.fr/web/c/96d9-4637151).\n",
    "\n",
    "<hr>\n",
    "<h3 class='fa fa-graduation-cap' style=\"color: darkorange\">France IOI - Zones de couleurs : </h3>\n",
    "\n",
    "**Ce que doit faire votre programme :**\n",
    "\n",
    "Sur une table est placée une feuille de papier rectangulaire de 90 cm de large et 70 cm de haut, composée de zones de différentes couleurs, comme le décrit la figure ci-dessous. Un certain nombre de personnes placent l'une après l'autre un jeton où elles le souhaitent sur la table, à l'exception des frontières entre les différentes zones.\n",
    "\n",
    "[![zones_couleurs.png](http://data.france-ioi.org/Task/2611ff10f44b2ea3d7a6ab0ce364a1cb/zones_couleurs.png)](http://www.france-ioi.org/algo/task.php?idChapter=648&idTask=496)\n",
    "\n",
    "On vous donne en entrée le nombre de jetons qui ont été déposés, puis, pour chaque jeton, ses coordonnées sur la feuille par rapport à l'origine en haut à gauche, sous la forme d'une abscisse et d'une ordonnée entre −1 000 et 1 000.\n",
    "\n",
    "Votre programme devra qualifier chaque jeton avec l'un des textes suivants, en fonction de la couleur sur laquelle il se trouve :\n",
    "\n",
    "- « En dehors de la feuille »\n",
    "- « Dans une zone jaune »\n",
    "- « Dans une zone bleue »\n",
    "- « Dans une zone rouge »\n",
    "\n",
    "Essayez d'écrire votre programme de sorte qu'il y ait au maximum une condition par possibilité de texte affiché.\n",
    "\n",
    "\n",
    "**Exemple**\n",
    "\n",
    "entrée :\n",
    "\n",
    "```\n",
    "4\n",
    "16\n",
    "12\n",
    "30\n",
    "22\n",
    "64\n",
    "62\n",
    "-5\n",
    "86\n",
    "```\n",
    "\n",
    "sortie :\n",
    "\n",
    "```\n",
    "Dans une zone bleue\n",
    "Dans une zone jaune\n",
    "Dans une zone rouge\n",
    "En dehors de la feuille\n",
    "```\n",
    "\n",
    "**Commentaires**\n",
    "\n",
    "Dans l'exemple, on a 4 jetons, de coordonnées (16 ; 12), (30 ; 22), (64 ; 62) et (-5 ; 86).\n",
    "\n",
    "> Tester votre programme sur [France IOI](http://www.france-ioi.org/algo/task.php?idChapter=648&idTask=496)..."
   ]
  },
  {
   "cell_type": "code",
   "execution_count": null,
   "metadata": {},
   "outputs": [],
   "source": [
    "# Votre code\n"
   ]
  },
  {
   "cell_type": "markdown",
   "metadata": {},
   "source": [
    "<!-- \n",
    "<h3 class='fa fa-rocket' style=\"color: tomato\">Animation avec ipycanvas : </h3>\n",
    "\n",
    "Coder avec le module ipycanvas une animation graphique qui illustre la logique booléenne à l'image du gif de Google en hommage à [George Boole](https://fr.wikipedia.org/wiki/George_Boole) :\n",
    "\n",
    "<br>\n",
    "<img  src=\"https://ericecmorlaix.github.io/img/doodle_George.gif\" alt=\"doodle_George\">\n",
    "<br>\n",
    "\n",
    "Si vous ne connaissez pas ce module, il vous faut donc préalablement le prendre en main en faisant, par exemple, les activités de [ipycanvas-Le_BN_pour_dessiner.ipynb\n",
    "](ipycanvas-Le_BN_pour_dessiner.ipynb)...\n",
    "\n",
    "De plus certaines autres fonctionnalités d'ipycanvas pourraient s'avérer utiles dans ce cas d'application :\n",
    "\n",
    "- Les textes : https://ipycanvas.readthedocs.io/en/latest/drawing_text.html\n",
    "\n",
    "- Le style dessin à main levé avec `RoughCanvas` : https://ipycanvas.readthedocs.io/en/latest/rough_canvas.html\n",
    "\n",
    "- Les boucles d'animation : https://ipycanvas.readthedocs.io/en/latest/animations.html -->\n"
   ]
  },
  {
   "cell_type": "code",
   "execution_count": null,
   "metadata": {},
   "outputs": [],
   "source": [
    "# Votre code d'animation avec ipycanvas\n"
   ]
  },
  {
   "cell_type": "markdown",
   "metadata": {},
   "source": [
    "****\n",
    "## Références aux programmes :\n",
    "\n",
    "<style type=\"text/css\">\n",
    ".tg  {border-collapse:collapse;border-spacing:0;}\n",
    ".tg td{font-family:Arial, sans-serif;font-size:14px;padding:10px 5px;border-style:solid;border-width:1px;overflow:hidden;word-break:normal;border-color:black;}\n",
    ".tg th{font-family:Arial, sans-serif;font-size:14px;font-weight:normal;padding:10px 5px;border-style:solid;border-width:1px;overflow:hidden;word-break:normal;border-color:black;}\n",
    ".tg .tg-cv16{font-weight:bold;background-color:#dae8fc;border-color:inherit;text-align:center}\n",
    ".tg .tg-xldj{border-color:inherit;text-align:left}\n",
    "</style>\n",
    "<table class=\"tg\">\n",
    "  <tr>\n",
    "    <th class=\"tg-cv16\">Contenus</th>\n",
    "    <th class=\"tg-cv16\">Capacités attendues</th>\n",
    "    <th class=\"tg-cv16\">Commentaires</th>\n",
    "  </tr>\n",
    "  <tr>\n",
    "    <td class=\"tg-xldj\">Valeurs booléennes : 0,1.<br>Opérateurs booléens : and, or, not.<br>Expressions booléennes.</td>\n",
    "    <td class=\"tg-xldj\">Dresser la table d’une expression booléenne.</td>\n",
    "    <td class=\"tg-xldj\">Le ou exclusif (xor) est évoqué.<br>Quelques applications directes comme l’addition binaire sont présentées.<br>L’attention des élèves est attirée sur le caractère séquentiel de certains opérateurs booléens.</td>\n",
    "  </tr>\n",
    "  \n",
    "</table>"
   ]
  },
  {
   "cell_type": "markdown",
   "metadata": {},
   "source": [
    "## Pour Aller plus loin :\n",
    "\n",
    "- https://python.developpez.com/cours/DiveIntoPython/php/frdiveintopython/power_of_introspection/and_or.php\n",
    "- https://docs.python.org/fr/3/library/operator.html\n"
   ]
  },
  {
   "cell_type": "markdown",
   "metadata": {},
   "source": [
    "<a rel=\"license\" href=\"http://creativecommons.org/licenses/by-sa/4.0/\"><img alt=\"Licence Creative Commons\" style=\"border-width:0\" src=\"https://i.creativecommons.org/l/by-sa/4.0/88x31.png\" /></a><br />Ce document est mis à disposition selon les termes de la <a rel=\"license\" href=\"http://creativecommons.org/licenses/by-sa/4.0/\">Licence Creative Commons Attribution -  Partage dans les Mêmes Conditions 4.0 International</a>.\n",
    "\n",
    "Pour toute question, suggestion ou commentaire : <a href=\"mailto:eric.madec@ecmorlaix.fr\">eric.madec@ecmorlaix.fr</a>"
   ]
  },
  {
   "cell_type": "code",
   "execution_count": null,
   "metadata": {},
   "outputs": [],
   "source": []
  }
 ],
 "metadata": {
  "kernelspec": {
   "display_name": "Python 3",
   "language": "python",
   "name": "python3"
  },
  "language_info": {
   "codemirror_mode": {
    "name": "ipython",
    "version": 3
   },
   "file_extension": ".py",
   "mimetype": "text/x-python",
   "name": "python",
   "nbconvert_exporter": "python",
   "pygments_lexer": "ipython3",
   "version": "3.10.1 (tags/v3.10.1:2cd268a, Dec  6 2021, 19:10:37) [MSC v.1929 64 bit (AMD64)]"
  },
  "toc": {
   "base_numbering": 1,
   "nav_menu": {},
   "number_sections": true,
   "sideBar": true,
   "skip_h1_title": false,
   "title_cell": "Table of Contents",
   "title_sidebar": "Contents",
   "toc_cell": false,
   "toc_position": {},
   "toc_section_display": true,
   "toc_window_display": false
  },
  "varInspector": {
   "cols": {
    "lenName": 16,
    "lenType": 16,
    "lenVar": 40
   },
   "kernels_config": {
    "python": {
     "delete_cmd_postfix": "",
     "delete_cmd_prefix": "del ",
     "library": "var_list.py",
     "varRefreshCmd": "print(var_dic_list())"
    },
    "r": {
     "delete_cmd_postfix": ") ",
     "delete_cmd_prefix": "rm(",
     "library": "var_list.r",
     "varRefreshCmd": "cat(var_dic_list()) "
    }
   },
   "types_to_exclude": [
    "module",
    "function",
    "builtin_function_or_method",
    "instance",
    "_Feature"
   ],
   "window_display": false
  },
  "vscode": {
   "interpreter": {
    "hash": "c813da0d88532624e95401f841607d640ef6d724b81c00ab0d0885f617a921c3"
   }
  }
 },
 "nbformat": 4,
 "nbformat_minor": 2
}
